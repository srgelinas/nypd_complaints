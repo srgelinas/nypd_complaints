{
 "cells": [
  {
   "cell_type": "markdown",
   "metadata": {},
   "source": [
    "# Summary of Findings\n",
    "\n",
    "### Author Contributions\n",
    " * Stephen Gelinas:\n",
    "     * Baseline Model\n",
    "     * Final Model\n",
    "     * Fairness Evaluation\n",
    " * Romella Sagetellian:\n",
    "     * Transformer Functions\n",
    "     * Documentation\n",
    "\n",
    "### Getting the Data\n",
    "The data and its corresponding data dictionary is downloadable [here](https://www.propublica.org/datastore/dataset/civilian-complaints-against-new-york-city-police-officers).\n",
    "\n",
    "Note: you don't need to provide any information to obtain the data. Just agree to the terms of use and click \"submit.\"\n",
    "\n",
    "\n",
    "### Introduction\n",
    "A classifier was trained to predict whether or not an NYPD officer was disciplined after a complaint was\n",
    "filed against them. For our target variable, we binarized the board disposition column into officers who were\n",
    "disciplined after their complaint (1) and officers who weren't (0). We chose this target variable because we\n",
    "wanted to see which features could have been responsible for an officer getting disciplinary action after having\n",
    "a complaint filed against them. For our evaluation metric, we used the percent of predictions that were correct.\n",
    "In this case, overall accuracy is the right metric to use because there is no extra harm in a false positive when\n",
    "compared to a false negative result, especially since our dataset is not class-imbalanced. Both mistakes will be\n",
    "weighed the same in our accuracy model.\n",
    "\n",
    "### Baseline Model\n",
    "The baseline model has 9 features: 2 that are quantitative, 1 that is ordinal, and 6 that are nominal. As stated in\n",
    "the introduction, for our evaluation metric we used the % accuracy and with our baseline model we got 74.40%\n",
    "accuracy, which was not good because this is about the same accuracy (if not lower) than if we had an extreme\n",
    "model that just guessed 0 (no disciplinary action taken) each time which had 75.81% accuracy.\n",
    "\n",
    "### Final Model\n",
    "The features we added were the age difference between the officer and the complainant and also the duration\n",
    "that each complaint was open. For the age difference between the officer and the complainant, we chose to add\n",
    "this because not only did it combine the information for 2 columns that were in the original data (the age of the\n",
    "complainant and the age of the officer), we felt like it would be more likely for someone to file a complaint if the\n",
    "violating officer was younger than them or close to them in age. In this type of situation, the complainant might\n",
    "feel like they have more authority over the police officer than if the complainant was much younger than their\n",
    "arresting officer. As for the complaint duration, we felt like this would positively impact our model because cases\n",
    "that were closed faster were likely taken more seriously than those that were open for longer periods of time\n",
    "because they were investigated immediately and we felt like this would also reflect itself in the disciplinary\n",
    "actions agasint the violating officers.\n",
    "For our model we chose a Decision Tree Classifier because almost all of our features were categorical. For\n",
    "parameters that worked best with our model, running grid search showed that the ideal max_depth parameter\n",
    "was 20 and the ideal min_samples_leaf parameter was 10.\n",
    "\n",
    "### Fairness Evaluation\n",
    "An'interesting subset' we analyzed was the column containing each police officer's rank at the time the\n",
    "complaint was closed and we binarized it based on whether the police officer's rank was just a regular police\n",
    "officer (the lowest possible rank in the NYPD) (True) or whether the officer's rank was higher (False). We wanted\n",
    "to see whether our model was fairer towards regular police officers or their superiors. The reason we chose this\n",
    "column was because it was the most important feature in our model when making predictions.\n",
    "For our parity measure, we picked accuracy because we noticed that our model's predictions for officers who\n",
    "were disciplined were artificially low, so we wanted to see whether this held true for all ranking officers. These\n",
    "were our hypotheses:\n",
    "\n",
    "* **Null Hypothesis:** the classifier is fair; the precision for cops with the rank 'Police Officer' and for cops who don't have the rank 'Police Officer' is the same\n",
    "\n",
    "\n",
    "* **Alternative Hypothesis:** the classifier is unfair; the precision for the cops with the rank 'Police Officer' is different than the precision for cops who don't have the rank 'Police Officer'\n",
    "\n",
    "From here, we ran a permutation test at the 0.05 significance level to see whether we reject or fail to reject the\n",
    "null hypothesis. We ended up with a p-value of 0.0, meaning that we reject our null hypothesis and predict that\n",
    "the classifier is fair towards cops with the rank 'Police Officer'."
   ]
  },
  {
   "cell_type": "markdown",
   "metadata": {},
   "source": [
    "# Code"
   ]
  },
  {
   "cell_type": "code",
   "execution_count": 27,
   "metadata": {},
   "outputs": [],
   "source": [
    "import matplotlib.pyplot as plt\n",
    "import numpy as np\n",
    "import os\n",
    "import pandas as pd\n",
    "import seaborn as sns\n",
    "%matplotlib inline\n",
    "%config InlineBackend.figure_format = 'retina'  # Higher resolution figures\n",
    "\n",
    "from sklearn.linear_model import LinearRegression\n",
    "from sklearn.preprocessing import FunctionTransformer\n",
    "from sklearn.preprocessing import OneHotEncoder\n",
    "from sklearn.pipeline import Pipeline\n",
    "from sklearn.compose import ColumnTransformer\n",
    "from sklearn.model_selection import train_test_split\n",
    "from sklearn.ensemble import RandomForestClassifier\n",
    "from sklearn.preprocessing import StandardScaler\n",
    "from sklearn.decomposition import PCA\n",
    "from sklearn import metrics\n",
    "from sklearn.model_selection import GridSearchCV"
   ]
  },
  {
   "cell_type": "code",
   "execution_count": 2,
   "metadata": {},
   "outputs": [],
   "source": [
    "def warn(*args, **kwargs):\n",
    "    pass\n",
    "import warnings\n",
    "warnings.warn = warn"
   ]
  },
  {
   "cell_type": "code",
   "execution_count": 3,
   "metadata": {},
   "outputs": [],
   "source": [
    "import matplotlib.pyplot as plt\n",
    "import numpy as np\n",
    "import os\n",
    "import pandas as pd\n",
    "import seaborn as sns\n",
    "%matplotlib inline\n",
    "%config InlineBackend.figure_format = 'retina' # Higher resolution figures"
   ]
  },
  {
   "cell_type": "code",
   "execution_count": 4,
   "metadata": {},
   "outputs": [],
   "source": [
    "from sklearn.preprocessing import FunctionTransformer\n",
    "from sklearn.preprocessing import OneHotEncoder\n",
    "from sklearn.pipeline import Pipeline\n",
    "from sklearn.compose import ColumnTransformer\n",
    "from sklearn.model_selection import train_test_split\n",
    "from sklearn.tree import DecisionTreeClassifier\n",
    "from sklearn.model_selection import GridSearchCV\n",
    "from sklearn.decomposition import PCA\n",
    "from sklearn.linear_model import LogisticRegression\n",
    "from sklearn import metrics\n",
    "from sklearn.ensemble import RandomForestClassifier\n",
    "from sklearn.preprocessing import StandardScaler"
   ]
  },
  {
   "cell_type": "markdown",
   "metadata": {},
   "source": [
    "Functions to be used by transformers for both baseline and final model:"
   ]
  },
  {
   "cell_type": "code",
   "execution_count": 5,
   "metadata": {},
   "outputs": [],
   "source": [
    "def unknown_cleaner(x):\n",
    "    if x in ['Unknown', 'Refused', 'Not described', 'Other', 'Others',\n",
    "'No contact']: return 'Unknown'\n",
    "    else: return x\n",
    "    \n",
    "def outcome_ordinal(df):\n",
    "    if type(df)!=pd.core.frame.DataFrame: df = pd.DataFrame(df)\n",
    "    def ord_helper(x):\n",
    "        x = x.lower()\n",
    "        if 'no arrest' in x: return 0\n",
    "        elif ('parking' in x) or ('moving' in x): return 1\n",
    "        elif ('summons' in x) or ('juvenile' in x): return 2\n",
    "        else: return 3\n",
    "    d = df.applymap(ord_helper)\n",
    "    return d\n",
    "\n",
    "def disposition_ordinal(df):\n",
    "    if type(df)!=pd.core.frame.DataFrame: df = pd.DataFrame(df)\n",
    "    def ord_helper(x):\n",
    "        x = x.lower()\n",
    "        if 'unsubstantiated' in x: return 0\n",
    "        elif 'exonerated' in x: return 1\n",
    "        else: return 2\n",
    "    d = df.applymap(ord_helper)\n",
    "    return d\n",
    "    \n",
    "def age_difference(df):\n",
    "    diff = df[:,0] - df[:,1]\n",
    "    return np.reshape(diff, (-1,1))\n",
    "\n",
    "def rank_ordinal(df):\n",
    "    if type(df)!=pd.core.frame.DataFrame: df = pd.DataFrame(df)\n",
    "    def ord_helper(x):\n",
    "        x = x.lower()\n",
    "        if 'police officer' in x: return 0\n",
    "        elif 'detective' in x: return 1\n",
    "        elif 'sergeant' in x: return 2\n",
    "        elif 'lieutenant' in x: return 3\n",
    "        elif 'captain' in x: return 4\n",
    "        elif 'inspector' in x and ' ' not in x: return 5\n",
    "        elif 'deputy' in x: return 6\n",
    "        else: return 7\n",
    "    d = df.applymap(ord_helper)\n",
    "    return d"
   ]
  },
  {
   "cell_type": "markdown",
   "metadata": {},
   "source": [
    "### Baseline Model"
   ]
  },
  {
   "cell_type": "code",
   "execution_count": 6,
   "metadata": {},
   "outputs": [
    {
     "data": {
      "text/html": [
       "<div>\n",
       "<style scoped>\n",
       "    .dataframe tbody tr th:only-of-type {\n",
       "        vertical-align: middle;\n",
       "    }\n",
       "\n",
       "    .dataframe tbody tr th {\n",
       "        vertical-align: top;\n",
       "    }\n",
       "\n",
       "    .dataframe thead th {\n",
       "        text-align: right;\n",
       "    }\n",
       "</style>\n",
       "<table border=\"1\" class=\"dataframe\">\n",
       "  <thead>\n",
       "    <tr style=\"text-align: right;\">\n",
       "      <th></th>\n",
       "      <th>unique_mos_id</th>\n",
       "      <th>first_name</th>\n",
       "      <th>last_name</th>\n",
       "      <th>command_now</th>\n",
       "      <th>shield_no</th>\n",
       "      <th>complaint_id</th>\n",
       "      <th>month_received</th>\n",
       "      <th>year_received</th>\n",
       "      <th>month_closed</th>\n",
       "      <th>year_closed</th>\n",
       "      <th>...</th>\n",
       "      <th>mos_age_incident</th>\n",
       "      <th>complainant_ethnicity</th>\n",
       "      <th>complainant_gender</th>\n",
       "      <th>complainant_age_incident</th>\n",
       "      <th>fado_type</th>\n",
       "      <th>allegation</th>\n",
       "      <th>precinct</th>\n",
       "      <th>contact_reason</th>\n",
       "      <th>outcome_description</th>\n",
       "      <th>board_disposition</th>\n",
       "    </tr>\n",
       "  </thead>\n",
       "  <tbody>\n",
       "    <tr>\n",
       "      <th>0</th>\n",
       "      <td>10004</td>\n",
       "      <td>Jonathan</td>\n",
       "      <td>Ruiz</td>\n",
       "      <td>078 PCT</td>\n",
       "      <td>8409</td>\n",
       "      <td>42835</td>\n",
       "      <td>7</td>\n",
       "      <td>2019</td>\n",
       "      <td>5</td>\n",
       "      <td>2020</td>\n",
       "      <td>...</td>\n",
       "      <td>32</td>\n",
       "      <td>Black</td>\n",
       "      <td>Female</td>\n",
       "      <td>38.0</td>\n",
       "      <td>Abuse of Authority</td>\n",
       "      <td>Failure to provide RTKA card</td>\n",
       "      <td>78.0</td>\n",
       "      <td>Report-domestic dispute</td>\n",
       "      <td>No arrest made or summons issued</td>\n",
       "      <td>Substantiated (Command Lvl Instructions)</td>\n",
       "    </tr>\n",
       "    <tr>\n",
       "      <th>1</th>\n",
       "      <td>10007</td>\n",
       "      <td>John</td>\n",
       "      <td>Sears</td>\n",
       "      <td>078 PCT</td>\n",
       "      <td>5952</td>\n",
       "      <td>24601</td>\n",
       "      <td>11</td>\n",
       "      <td>2011</td>\n",
       "      <td>8</td>\n",
       "      <td>2012</td>\n",
       "      <td>...</td>\n",
       "      <td>24</td>\n",
       "      <td>Black</td>\n",
       "      <td>Male</td>\n",
       "      <td>26.0</td>\n",
       "      <td>Discourtesy</td>\n",
       "      <td>Action</td>\n",
       "      <td>67.0</td>\n",
       "      <td>Moving violation</td>\n",
       "      <td>Moving violation summons issued</td>\n",
       "      <td>Substantiated (Charges)</td>\n",
       "    </tr>\n",
       "    <tr>\n",
       "      <th>2</th>\n",
       "      <td>10007</td>\n",
       "      <td>John</td>\n",
       "      <td>Sears</td>\n",
       "      <td>078 PCT</td>\n",
       "      <td>5952</td>\n",
       "      <td>24601</td>\n",
       "      <td>11</td>\n",
       "      <td>2011</td>\n",
       "      <td>8</td>\n",
       "      <td>2012</td>\n",
       "      <td>...</td>\n",
       "      <td>24</td>\n",
       "      <td>Black</td>\n",
       "      <td>Male</td>\n",
       "      <td>26.0</td>\n",
       "      <td>Offensive Language</td>\n",
       "      <td>Race</td>\n",
       "      <td>67.0</td>\n",
       "      <td>Moving violation</td>\n",
       "      <td>Moving violation summons issued</td>\n",
       "      <td>Substantiated (Charges)</td>\n",
       "    </tr>\n",
       "    <tr>\n",
       "      <th>3</th>\n",
       "      <td>10007</td>\n",
       "      <td>John</td>\n",
       "      <td>Sears</td>\n",
       "      <td>078 PCT</td>\n",
       "      <td>5952</td>\n",
       "      <td>26146</td>\n",
       "      <td>7</td>\n",
       "      <td>2012</td>\n",
       "      <td>9</td>\n",
       "      <td>2013</td>\n",
       "      <td>...</td>\n",
       "      <td>25</td>\n",
       "      <td>Black</td>\n",
       "      <td>Male</td>\n",
       "      <td>45.0</td>\n",
       "      <td>Abuse of Authority</td>\n",
       "      <td>Question</td>\n",
       "      <td>67.0</td>\n",
       "      <td>PD suspected C/V of violation/crime - street</td>\n",
       "      <td>No arrest made or summons issued</td>\n",
       "      <td>Substantiated (Charges)</td>\n",
       "    </tr>\n",
       "    <tr>\n",
       "      <th>4</th>\n",
       "      <td>10009</td>\n",
       "      <td>Noemi</td>\n",
       "      <td>Sierra</td>\n",
       "      <td>078 PCT</td>\n",
       "      <td>24058</td>\n",
       "      <td>40253</td>\n",
       "      <td>8</td>\n",
       "      <td>2018</td>\n",
       "      <td>2</td>\n",
       "      <td>2019</td>\n",
       "      <td>...</td>\n",
       "      <td>39</td>\n",
       "      <td>NaN</td>\n",
       "      <td>NaN</td>\n",
       "      <td>16.0</td>\n",
       "      <td>Force</td>\n",
       "      <td>Physical force</td>\n",
       "      <td>67.0</td>\n",
       "      <td>Report-dispute</td>\n",
       "      <td>Arrest - other violation/crime</td>\n",
       "      <td>Substantiated (Command Discipline A)</td>\n",
       "    </tr>\n",
       "  </tbody>\n",
       "</table>\n",
       "<p>5 rows × 27 columns</p>\n",
       "</div>"
      ],
      "text/plain": [
       "   unique_mos_id first_name last_name command_now  shield_no  complaint_id  \\\n",
       "0          10004   Jonathan      Ruiz     078 PCT       8409         42835   \n",
       "1          10007       John     Sears     078 PCT       5952         24601   \n",
       "2          10007       John     Sears     078 PCT       5952         24601   \n",
       "3          10007       John     Sears     078 PCT       5952         26146   \n",
       "4          10009      Noemi    Sierra     078 PCT      24058         40253   \n",
       "\n",
       "   month_received  year_received  month_closed  year_closed  ...  \\\n",
       "0               7           2019             5         2020  ...   \n",
       "1              11           2011             8         2012  ...   \n",
       "2              11           2011             8         2012  ...   \n",
       "3               7           2012             9         2013  ...   \n",
       "4               8           2018             2         2019  ...   \n",
       "\n",
       "  mos_age_incident complainant_ethnicity complainant_gender  \\\n",
       "0               32                 Black             Female   \n",
       "1               24                 Black               Male   \n",
       "2               24                 Black               Male   \n",
       "3               25                 Black               Male   \n",
       "4               39                   NaN                NaN   \n",
       "\n",
       "  complainant_age_incident           fado_type                    allegation  \\\n",
       "0                     38.0  Abuse of Authority  Failure to provide RTKA card   \n",
       "1                     26.0         Discourtesy                        Action   \n",
       "2                     26.0  Offensive Language                          Race   \n",
       "3                     45.0  Abuse of Authority                      Question   \n",
       "4                     16.0               Force                Physical force   \n",
       "\n",
       "  precinct                                contact_reason  \\\n",
       "0     78.0                       Report-domestic dispute   \n",
       "1     67.0                              Moving violation   \n",
       "2     67.0                              Moving violation   \n",
       "3     67.0  PD suspected C/V of violation/crime - street   \n",
       "4     67.0                                Report-dispute   \n",
       "\n",
       "                outcome_description                         board_disposition  \n",
       "0  No arrest made or summons issued  Substantiated (Command Lvl Instructions)  \n",
       "1   Moving violation summons issued                   Substantiated (Charges)  \n",
       "2   Moving violation summons issued                   Substantiated (Charges)  \n",
       "3  No arrest made or summons issued                   Substantiated (Charges)  \n",
       "4    Arrest - other violation/crime      Substantiated (Command Discipline A)  \n",
       "\n",
       "[5 rows x 27 columns]"
      ]
     },
     "execution_count": 6,
     "metadata": {},
     "output_type": "execute_result"
    }
   ],
   "source": [
    "df = pd.read_csv('nypd.csv')\n",
    "df.head()"
   ]
  },
  {
   "cell_type": "code",
   "execution_count": 7,
   "metadata": {},
   "outputs": [],
   "source": [
    "#determine if action was taken after complaint against officer\n",
    "def engineer_outcome(df):\n",
    "    def ord_helper(x):\n",
    "        x = x.lower()\n",
    "        if 'unsubstantiated' in x or 'exonerated' in x: return 0\n",
    "        else: return 1\n",
    "    d = df.apply(ord_helper)\n",
    "    return d\n",
    "\n",
    "#outcome engineered to whether action was taken against the officer\n",
    "df['action_taken'] = engineer_outcome(df['board_disposition'])\n",
    "\n",
    "#drop unnecessary columns\n",
    "df = df.drop(columns = ['unique_mos_id', 'first_name', 'last_name', 'shield_no',\n",
    "                        'complaint_id', 'precinct', 'command_now', \n",
    "                        'command_at_incident', 'rank_abbrev_incident',\n",
    "                        'rank_abbrev_now','rank_incident','allegation', 'board_disposition',\n",
    "                        ])\n",
    "\n",
    "#clean unknown gender, ethnicity, age etc. and drop na rows\n",
    "df = df.dropna(axis = 0)\n",
    "\n",
    "#split data into response and explanatory variables\n",
    "X = df.drop(columns=['action_taken'])\n",
    "y = df['action_taken']"
   ]
  },
  {
   "cell_type": "code",
   "execution_count": 32,
   "metadata": {},
   "outputs": [
    {
     "data": {
      "text/plain": [
       "0.738898756660746"
      ]
     },
     "execution_count": 32,
     "metadata": {},
     "output_type": "execute_result"
    }
   ],
   "source": [
    "#create pipeline for baseline model\n",
    "ohe_transformer = OneHotEncoder(sparse=False, handle_unknown='ignore')\n",
    "cat_transformer = Pipeline(steps=[('encode', ohe_transformer),\n",
    "                                 ('pca', PCA(svd_solver = 'full'))])\n",
    "outcome_transformer = FunctionTransformer(outcome_ordinal, validate = False)\n",
    "rank_transformer = FunctionTransformer(rank_ordinal, validate = False)\n",
    "\n",
    "preproc = ColumnTransformer(transformers=[\\\n",
    "                        ('categorical', cat_transformer, ['complainant_ethnicity', 'complainant_gender',\n",
    "                                                          'mos_ethnicity', 'mos_gender', 'fado_type']),\n",
    "                        ('rank', rank_transformer, ['rank_now']),\n",
    "                        ('outcome', outcome_transformer, ['outcome_description'])\n",
    "                        ], remainder = 'drop')\n",
    "\n",
    "pl = Pipeline(steps=[\n",
    "                     ('preprocessing', preproc), \\\n",
    "                     ('predictions', RandomForestClassifier())\\\n",
    "                    ])\n",
    "\n",
    "X_train, X_test, y_train, y_test = train_test_split(X, y, test_size=0.3)\n",
    "pl.fit(X_train, y_train)\n",
    "preds = pl.predict(X_test)\n",
    "metrics.accuracy_score(y_test, preds)"
   ]
  },
  {
   "cell_type": "code",
   "execution_count": 9,
   "metadata": {},
   "outputs": [
    {
     "data": {
      "text/plain": [
       "0.7525162818235642"
      ]
     },
     "execution_count": 9,
     "metadata": {},
     "output_type": "execute_result"
    }
   ],
   "source": [
    "np.mean(0==y_test)"
   ]
  },
  {
   "cell_type": "code",
   "execution_count": 10,
   "metadata": {},
   "outputs": [],
   "source": [
    "#model is actually worse than guessing 0 every time"
   ]
  },
  {
   "cell_type": "markdown",
   "metadata": {},
   "source": [
    "### Final Model"
   ]
  },
  {
   "cell_type": "code",
   "execution_count": 31,
   "metadata": {},
   "outputs": [
    {
     "data": {
      "text/plain": [
       "rank_now                                    0.295484\n",
       "outcome_description                         0.233820\n",
       "complainant_ethnicity_Asian                 0.069022\n",
       "complainant_ethnicity_Refused               0.052446\n",
       "complainant_gender_Male                     0.031366\n",
       "complainant_ethnicity_Black                 0.029046\n",
       "complainant_ethnicity_Hispanic              0.027640\n",
       "complainant_gender_Not described            0.027577\n",
       "complainant_ethnicity_White                 0.022403\n",
       "complainant_gender_Transwoman (MTF)         0.019174\n",
       "mos_ethnicity_American Indian               0.017379\n",
       "complainant_gender_Female                   0.017120\n",
       "mos_ethnicity_Hispanic                      0.017032\n",
       "mos_ethnicity_Asian                         0.016661\n",
       "complainant_ethnicity_Unknown               0.016592\n",
       "mos_gender_F                                0.016350\n",
       "complainant_gender_Gender non-conforming    0.015955\n",
       "mos_ethnicity_White                         0.015947\n",
       "complainant_gender_Transman (FTM)           0.015620\n",
       "mos_ethnicity_Black                         0.015589\n",
       "complainant_ethnicity_Other Race            0.014403\n",
       "complainant_ethnicity_American Indian       0.013375\n",
       "mos_gender_M                                0.000000\n",
       "fado_type_Abuse of Authority                0.000000\n",
       "fado_type_Discourtesy                       0.000000\n",
       "fado_type_Force                             0.000000\n",
       "fado_type_Offensive Language                0.000000\n",
       "dtype: float64"
      ]
     },
     "execution_count": 31,
     "metadata": {},
     "output_type": "execute_result"
    }
   ],
   "source": [
    "#determine most important features for classification from baseline model\n",
    "trans = pl.named_steps['preprocessing'].transformers_\n",
    "cols = trans[0][1].named_steps['encode'].get_feature_names(['complainant_ethnicity', 'complainant_gender',\n",
    "                                                          'mos_ethnicity', 'mos_gender', 'fado_type'])\n",
    "original_cols = np.array(['rank_now', 'outcome_description'])\n",
    "for i in original_cols:\n",
    "    cols = np.append(cols, i)\n",
    "\n",
    "#most important features\n",
    "clf = pl.named_steps['predictions']\n",
    "pd.Series(\n",
    "    data = clf.feature_importances_,\n",
    "    index = cols\n",
    ").sort_values(ascending = False)"
   ]
  },
  {
   "cell_type": "code",
   "execution_count": 12,
   "metadata": {},
   "outputs": [],
   "source": [
    "#some features added are just noise, like the fado_type, mos_gender, mos_ethnicity, possible colinearities from OHE"
   ]
  },
  {
   "cell_type": "code",
   "execution_count": 13,
   "metadata": {},
   "outputs": [
    {
     "name": "stdout",
     "output_type": "stream",
     "text": [
      "PCA results:  {'preprocessing__categorical__pca__n_components': 0.25}\n",
      "Best score after PCA:  0.740357287860333\n"
     ]
    }
   ],
   "source": [
    "#PCA\n",
    "params = {\n",
    "    'preprocessing__categorical__pca__n_components': [.05, .1, .15, .2, .25, .3]\n",
    "}\n",
    "grids = GridSearchCV(pl, param_grid = params, cv = 3)\n",
    "grids.fit(X_train, y_train)\n",
    "print('PCA results: ', grids.best_params_)\n",
    "print('Best score after PCA: ', grids.best_score_)"
   ]
  },
  {
   "cell_type": "code",
   "execution_count": 14,
   "metadata": {},
   "outputs": [],
   "source": [
    "#from PCA on categorial columns, we can see that these features aren't very important for predicting whether a\n",
    "#police officer is disciplined from a complaint. We'd opt for a simpler model by reducing the number of components\n",
    "#to about 10% of the original data, after one hot encoding the categorical features"
   ]
  },
  {
   "cell_type": "code",
   "execution_count": 15,
   "metadata": {},
   "outputs": [],
   "source": [
    "#feature engineering complaint duration and age difference\n",
    "def duration(df):\n",
    "    cols = df.columns\n",
    "    year_closed = df[cols[0]]\n",
    "    year_received = df[cols[1]]\n",
    "    month_closed = df[cols[2]]\n",
    "    month_received = df[cols[3]]\n",
    "    temp = (year_closed-year_received)*12+(month_closed-month_received)\n",
    "    return pd.DataFrame(temp)\n",
    "\n",
    "def age_difference(df):\n",
    "    if type(df)!=pd.core.frame.DataFrame: df = pd.DataFrame(df)\n",
    "    cols = df.columns\n",
    "    officer_age = df[cols[0]].apply(lambda x: 0 if abs(x) > 400 else x)\n",
    "    complainant_age = df[cols[1]].apply(lambda x: 0 if abs(x) > 400 else x)\n",
    "    diff = officer_age - complainant_age\n",
    "    return pd.DataFrame(diff)"
   ]
  },
  {
   "cell_type": "code",
   "execution_count": 16,
   "metadata": {},
   "outputs": [
    {
     "data": {
      "text/plain": [
       "0.7529899348727057"
      ]
     },
     "execution_count": 16,
     "metadata": {},
     "output_type": "execute_result"
    }
   ],
   "source": [
    "#determine if model has improved from PCA, feature engineering, and feature selection\n",
    "ohe_transformer = OneHotEncoder(sparse=False, handle_unknown='ignore')\n",
    "cat_transformer = Pipeline(steps=[('encode', ohe_transformer),\n",
    "                                  ('pca', PCA(svd_solver = 'full', n_components = .2))])\n",
    "rank_transformer = FunctionTransformer(rank_ordinal, validate = False)\n",
    "outcome_transformer = FunctionTransformer(outcome_ordinal, validate = False)\n",
    "age_transformer = Pipeline(steps=[('diff', FunctionTransformer(age_difference)),\n",
    "                                  ('standardize', StandardScaler())])\n",
    "duration_transformer = Pipeline(steps=[('duration', FunctionTransformer(duration)),\n",
    "                                       ('standardize', StandardScaler())])\n",
    "\n",
    "preproc = ColumnTransformer(transformers=[\\\n",
    "                        ('categorical', cat_transformer, ['complainant_gender', 'complainant_ethnicity']),\n",
    "                        ('rank', rank_transformer, ['rank_now']),\n",
    "                        ('outcome', outcome_transformer, ['outcome_description']),\n",
    "                        ('age', age_transformer, ['mos_age_incident', 'complainant_age_incident']),\n",
    "                        ('duration', duration_transformer, ['year_closed', 'year_received',\n",
    "                                                           'month_closed','month_received']),\n",
    "                        ], remainder = 'drop')\n",
    "\n",
    "pl2 = Pipeline(steps=[\n",
    "                     ('preprocessing', preproc), \\\n",
    "                     ('predictions', RandomForestClassifier())\\\n",
    "                    ])\n",
    "\n",
    "X_train, X_test, y_train, y_test = train_test_split(X, y, test_size=0.3)\n",
    "pl2.fit(X_train, y_train)\n",
    "preds2 = pl2.predict(X_test)\n",
    "metrics.accuracy_score(y_test, preds2)"
   ]
  },
  {
   "cell_type": "code",
   "execution_count": 17,
   "metadata": {},
   "outputs": [
    {
     "name": "stdout",
     "output_type": "stream",
     "text": [
      "best parameters:  {'predictions__max_depth': 15, 'predictions__min_samples_leaf': 6}\n",
      "highest % accuracy using grid search determined best parameters:  0.7586276898091757\n",
      "% accuracy if our model guessed 0 every time:  0.754647720544701\n"
     ]
    }
   ],
   "source": [
    "#cross validation on engineered model\n",
    "parameters = {\n",
    "    'predictions__min_samples_leaf': [2,4,6,8,10,12],\n",
    "    'predictions__max_depth': [2,5,10,15,20],\n",
    "}\n",
    "\n",
    "X_train, X_test, y_train, y_test = train_test_split(X, y, test_size=0.3)\n",
    "clf = GridSearchCV(pl2, parameters, cv = 3)\n",
    "clf.fit(X_train,y_train)\n",
    "print('best parameters: ', clf.best_params_)\n",
    "print('highest % accuracy using grid search determined best parameters: ', clf.best_score_)\n",
    "print('% accuracy if our model guessed 0 every time: ', np.mean(y_test== 0))"
   ]
  },
  {
   "cell_type": "code",
   "execution_count": 19,
   "metadata": {},
   "outputs": [
    {
     "name": "stdout",
     "output_type": "stream",
     "text": [
      "% accuracy of the final model:  0.7622261693309651\n",
      "% accuracy if our model guessed 0 every time:  0.7538188277087033\n"
     ]
    }
   ],
   "source": [
    "#final model\n",
    "pl_final = Pipeline(steps=[\n",
    "                     ('preprocessing', preproc), \\\n",
    "                     ('predictions', RandomForestClassifier(max_depth = 15,\n",
    "                                                           min_samples_leaf = 4))\\\n",
    "                    ])\n",
    "\n",
    "X_train, X_test, y_train, y_test = train_test_split(X, y, test_size=0.3)\n",
    "pl_final.fit(X_train, y_train)\n",
    "preds_final = pl_final.predict(X_test)\n",
    "print('% accuracy of the final model: ', metrics.accuracy_score(y_test, preds_final))\n",
    "print('% accuracy if our model guessed 0 every time: ', np.mean(0==y_test))"
   ]
  },
  {
   "cell_type": "code",
   "execution_count": null,
   "metadata": {},
   "outputs": [],
   "source": [
    "#our model is finally above baseline guessing now using PCA, cross validation, and feature selection"
   ]
  },
  {
   "cell_type": "markdown",
   "metadata": {},
   "source": [
    "### Fairness Evaluation"
   ]
  },
  {
   "cell_type": "markdown",
   "metadata": {},
   "source": [
    "When analyzing if the built model for classifying whether a complaint made against an NYPD officer leads to disciplinary action is fair across specific demographics, we must take a deeper look into the classifier's performance and where it underperforms."
   ]
  },
  {
   "cell_type": "code",
   "execution_count": 20,
   "metadata": {},
   "outputs": [
    {
     "data": {
      "text/html": [
       "<div>\n",
       "<style scoped>\n",
       "    .dataframe tbody tr th:only-of-type {\n",
       "        vertical-align: middle;\n",
       "    }\n",
       "\n",
       "    .dataframe tbody tr th {\n",
       "        vertical-align: top;\n",
       "    }\n",
       "\n",
       "    .dataframe thead th {\n",
       "        text-align: right;\n",
       "    }\n",
       "</style>\n",
       "<table border=\"1\" class=\"dataframe\">\n",
       "  <thead>\n",
       "    <tr style=\"text-align: right;\">\n",
       "      <th></th>\n",
       "      <th>prediction</th>\n",
       "      <th>test_label</th>\n",
       "      <th>outcome</th>\n",
       "    </tr>\n",
       "  </thead>\n",
       "  <tbody>\n",
       "    <tr>\n",
       "      <th>0</th>\n",
       "      <td>0</td>\n",
       "      <td>0</td>\n",
       "      <td>TN</td>\n",
       "    </tr>\n",
       "    <tr>\n",
       "      <th>1</th>\n",
       "      <td>0</td>\n",
       "      <td>0</td>\n",
       "      <td>TN</td>\n",
       "    </tr>\n",
       "    <tr>\n",
       "      <th>2</th>\n",
       "      <td>0</td>\n",
       "      <td>0</td>\n",
       "      <td>TN</td>\n",
       "    </tr>\n",
       "    <tr>\n",
       "      <th>3</th>\n",
       "      <td>0</td>\n",
       "      <td>1</td>\n",
       "      <td>FN</td>\n",
       "    </tr>\n",
       "    <tr>\n",
       "      <th>4</th>\n",
       "      <td>0</td>\n",
       "      <td>0</td>\n",
       "      <td>TN</td>\n",
       "    </tr>\n",
       "  </tbody>\n",
       "</table>\n",
       "</div>"
      ],
      "text/plain": [
       "   prediction  test_label outcome\n",
       "0           0           0      TN\n",
       "1           0           0      TN\n",
       "2           0           0      TN\n",
       "3           0           1      FN\n",
       "4           0           0      TN"
      ]
     },
     "execution_count": 20,
     "metadata": {},
     "output_type": "execute_result"
    }
   ],
   "source": [
    "def determine_outcome(df):\n",
    "    def helper(x):\n",
    "        if x[0] == 0 and x[1] == 0:\n",
    "            return 'TN'\n",
    "        elif x[0] == 1 and x[1] == 1:\n",
    "            return 'TP'\n",
    "        elif x[0] == 1 and x[1] == 0:\n",
    "            return 'FP'\n",
    "        else:\n",
    "            return 'FN'\n",
    "    return df.apply(helper, axis = 1)\n",
    "\n",
    "pred_analysis = pd.DataFrame(preds_final, columns = ['prediction'])\n",
    "pred_analysis['test_label'] = y_test.reset_index()['action_taken']  \n",
    "out = determine_outcome(pred_analysis)\n",
    "pred_analysis['outcome'] = out\n",
    "pred_analysis.head()"
   ]
  },
  {
   "cell_type": "markdown",
   "metadata": {},
   "source": [
    "Plotting a confusion matrix will help us determine the proportion of true negative, false positive, false negative, and true positive classifications from our model. From the confusion matrix, we can see that the classifier has a true negative rate of about 73.6%, a false positive rate of about 1.6%, a false negative rate of about 22.1% and a true positive rate of about 2.5%. The model tends to underperform when making positive classifications."
   ]
  },
  {
   "cell_type": "code",
   "execution_count": 29,
   "metadata": {},
   "outputs": [
    {
     "data": {
      "image/png": "[encoded data removed]",
      "text/plain": [
       "<Figure size 432x288 with 2 Axes>"
      ]
     },
     "metadata": {
      "image/png": {
       "height": 277,
       "width": 372
      },
      "needs_background": "light"
     },
     "output_type": "display_data"
    }
   ],
   "source": [
    "tn, fp, fn, tp = metrics.confusion_matrix(y_test, preds_final).ravel()\n",
    "#plot confusion matrix\n",
    "cm = metrics.confusion_matrix(y_test, preds_final)\n",
    "ax= plt.subplot()\n",
    "sns.heatmap(cm, annot=True, fmt='g', ax=ax)\n",
    "ax.set_xlabel('Predicted Class')\n",
    "ax.set_ylabel('True Class')\n",
    "ax.set_title('Confusion Matrix') \n",
    "ax.xaxis.set_ticklabels(['Unsubstantiated', 'Substantiated'])\n",
    "ax.yaxis.set_ticklabels(['Unsubstantiated', 'Substantiated'])\n",
    "plt.show()"
   ]
  },
  {
   "cell_type": "markdown",
   "metadata": {},
   "source": [
    "Analyzing the model's recall, specificity, and precision, we can see that the classifier has a recall rate of 10.4%, which is the proportion of NYPD officers who were correctly identified as disciplined from a complaint. The classifier has a specificity rate of 97.8%, which is the proportion of NYPD officers who were correctly identified as not being disciplined from a complaint. Finally, the classifier has a precision rate of 6.1%, which is the proportion of NYPD officers classified as being disciplined from a complaint that were actually disciplined."
   ]
  },
  {
   "cell_type": "code",
   "execution_count": 22,
   "metadata": {},
   "outputs": [
    {
     "name": "stdout",
     "output_type": "stream",
     "text": [
      "Recall: 0.10101010101010101\n",
      "Specificity: 0.9781652529060635\n",
      "Precision: 0.6017191977077364\n"
     ]
    }
   ],
   "source": [
    "recall = metrics.recall_score(y_test, preds_final)\n",
    "specificity = metrics.recall_score(y_test, preds_final, pos_label = 0)\n",
    "precision = metrics.precision_score(y_test, preds_final)\n",
    "\n",
    "print(\"Recall: \" + str(recall) + '\\n'\n",
    "     +\"Specificity: \" + str(specificity) + '\\n'\n",
    "     +\"Precision: \" + str(precision))"
   ]
  },
  {
   "cell_type": "markdown",
   "metadata": {},
   "source": [
    "The officer's rank was the most important feature in predicting whether an NYPD officer was disciplined following a complaint. When analyzing the parity of the classifier based on the officer's rank, it appears that the model predicts complaints made against NYPD cops with the rank 'Police Officer' are more likely to result in disciplinary action compared to complaints made against NYPD cops who aren't the rank 'Police Officer.'"
   ]
  },
  {
   "cell_type": "code",
   "execution_count": 23,
   "metadata": {},
   "outputs": [
    {
     "data": {
      "text/plain": [
       "regular_officer\n",
       "False    0.022926\n",
       "True     0.079824\n",
       "Name: preds, dtype: float64"
      ]
     },
     "execution_count": 23,
     "metadata": {},
     "output_type": "execute_result"
    }
   ],
   "source": [
    "results = X_test.copy()\n",
    "results['preds'] = preds_final\n",
    "results['actual'] = y_test\n",
    "results['regular_officer'] = results['rank_now'].map(lambda x: True if x == 'Police Officer' else False)\n",
    "results.groupby('regular_officer')['preds'].mean()"
   ]
  },
  {
   "cell_type": "markdown",
   "metadata": {},
   "source": [
    "When analyzing accuracy parity between cops with the rank 'Police Officer' and all other cops, there appears to be accuracy parity. The classifier performs worse when the officer's rank is 'Police Officer' and there is an observed accuracy difference of about 8%. To test if this difference is significant, a permutation test will be conducted."
   ]
  },
  {
   "cell_type": "code",
   "execution_count": 24,
   "metadata": {},
   "outputs": [
    {
     "data": {
      "text/html": [
       "<div>\n",
       "<style scoped>\n",
       "    .dataframe tbody tr th:only-of-type {\n",
       "        vertical-align: middle;\n",
       "    }\n",
       "\n",
       "    .dataframe tbody tr th {\n",
       "        vertical-align: top;\n",
       "    }\n",
       "\n",
       "    .dataframe thead th {\n",
       "        text-align: right;\n",
       "    }\n",
       "</style>\n",
       "<table border=\"1\" class=\"dataframe\">\n",
       "  <thead>\n",
       "    <tr style=\"text-align: right;\">\n",
       "      <th></th>\n",
       "      <th>accuracy</th>\n",
       "    </tr>\n",
       "    <tr>\n",
       "      <th>regular_officer</th>\n",
       "      <th></th>\n",
       "    </tr>\n",
       "  </thead>\n",
       "  <tbody>\n",
       "    <tr>\n",
       "      <th>False</th>\n",
       "      <td>0.787014</td>\n",
       "    </tr>\n",
       "    <tr>\n",
       "      <th>True</th>\n",
       "      <td>0.710363</td>\n",
       "    </tr>\n",
       "  </tbody>\n",
       "</table>\n",
       "</div>"
      ],
      "text/plain": [
       "                 accuracy\n",
       "regular_officer          \n",
       "False            0.787014\n",
       "True             0.710363"
      ]
     },
     "execution_count": 24,
     "metadata": {},
     "output_type": "execute_result"
    }
   ],
   "source": [
    "regular_officers = results.groupby('regular_officer').apply(lambda x: metrics.accuracy_score(x.actual, x.preds)).rename('accuracy').to_frame()\n",
    "regular_officers"
   ]
  },
  {
   "cell_type": "markdown",
   "metadata": {},
   "source": [
    "<b>Null Hypothesis:</b> the classifier is fair; the precision for cops with the rank 'Police Officer' and for cops who don't have the rank 'Police Officer' is the same\n",
    "\n",
    "<b>Alternative Hypothesis:</b> the classifier is unfair; the precision for the cops with the rank 'Police Officer' is different than the precision for cops who don't have the rank 'Police Officer'"
   ]
  },
  {
   "cell_type": "code",
   "execution_count": 25,
   "metadata": {},
   "outputs": [
    {
     "data": {
      "text/plain": [
       "0.0"
      ]
     },
     "execution_count": 25,
     "metadata": {},
     "output_type": "execute_result"
    }
   ],
   "source": [
    "obs = regular_officers.diff().iloc[-1].to_numpy()\n",
    "accuracy_diffs = []\n",
    "for i in range(200):\n",
    "    s = (\n",
    "        results[['regular_officer', 'preds', 'actual']]\n",
    "        .assign(regular_officer=results.regular_officer.sample(frac = 1.0, replace = False).reset_index(drop=True))\n",
    "        .groupby('regular_officer')\n",
    "        .apply(lambda x: metrics.accuracy_score(x.actual, x.preds))\n",
    "        .diff()\n",
    "        .iloc[-1]\n",
    "    )\n",
    "    accuracy_diffs.append(s)\n",
    "\n",
    "np.mean(obs >= accuracy_diffs)"
   ]
  },
  {
   "cell_type": "markdown",
   "metadata": {},
   "source": [
    "A p-value of 0.0 was obtained, so we reject the null hypothesis that the classifier is fair for cops whose rank is 'Police Officer' and for all other cops, a significance level of alpha = 0.01. We have convincing evidence that our classifier is unfair for these two subgroups, and that accuracy parity doesn't exist."
   ]
  },
  {
   "cell_type": "code",
   "execution_count": 26,
   "metadata": {},
   "outputs": [
    {
     "data": {
      "image/png": "[encoded data removed]",
      "text/plain": [
       "<Figure size 432x288 with 1 Axes>"
      ]
     },
     "metadata": {
      "image/png": {
       "height": 248,
       "width": 382
      },
      "needs_background": "light"
     },
     "output_type": "display_data"
    }
   ],
   "source": [
    "pd.Series(accuracy_diffs).plot(kind = 'hist')\n",
    "plt.scatter(obs, 0.1, c ='r');"
   ]
  }
 ],
 "metadata": {
  "kernelspec": {
   "display_name": "Python 3",
   "language": "python",
   "name": "python3"
  },
  "language_info": {
   "codemirror_mode": {
    "name": "ipython",
    "version": 3
   },
   "file_extension": ".py",
   "mimetype": "text/x-python",
   "name": "python",
   "nbconvert_exporter": "python",
   "pygments_lexer": "ipython3",
   "version": "3.7.6"
  }
 },
 "nbformat": 4,
 "nbformat_minor": 2
}
